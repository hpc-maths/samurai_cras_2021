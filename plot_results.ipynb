{
 "cells": [
  {
   "cell_type": "markdown",
   "id": "33072111-728f-4818-852a-ee299c50eb93",
   "metadata": {},
   "source": [
    "# 1D results"
   ]
  },
  {
   "cell_type": "code",
   "execution_count": null,
   "id": "2a0b0895-29bd-4617-943f-47f6d8336bef",
   "metadata": {},
   "outputs": [],
   "source": [
    "! ./D1Q3_case"
   ]
  },
  {
   "cell_type": "code",
   "execution_count": null,
   "id": "e5f4a894-613f-4b6c-a5d1-9c16f87b6ce3",
   "metadata": {},
   "outputs": [],
   "source": [
    "%run python/read_data_1d.py"
   ]
  },
  {
   "cell_type": "markdown",
   "id": "650cbeee-5fb6-49f2-88b8-fd321e8da4f6",
   "metadata": {},
   "source": [
    "# 2D results"
   ]
  },
  {
   "cell_type": "code",
   "execution_count": null,
   "id": "bc2c227e-f447-42d7-9a5b-13e54ab5317f",
   "metadata": {},
   "outputs": [],
   "source": [
    "! ./D2Q9_case"
   ]
  },
  {
   "cell_type": "code",
   "execution_count": null,
   "id": "0dfcd871-0f68-4e4c-842a-7a4e7e39658e",
   "metadata": {},
   "outputs": [],
   "source": [
    "%run python/read_data_2d.py"
   ]
  },
  {
   "cell_type": "code",
   "execution_count": null,
   "id": "00aaf926-7e29-4dbd-a613-19ee190d6fb0",
   "metadata": {},
   "outputs": [],
   "source": []
  }
 ],
 "metadata": {
  "kernelspec": {
   "display_name": "Python 3 (ipykernel)",
   "language": "python",
   "name": "python3"
  },
  "language_info": {
   "codemirror_mode": {
    "name": "ipython",
    "version": 3
   },
   "file_extension": ".py",
   "mimetype": "text/x-python",
   "name": "python",
   "nbconvert_exporter": "python",
   "pygments_lexer": "ipython3",
   "version": "3.9.7"
  }
 },
 "nbformat": 4,
 "nbformat_minor": 5
}
